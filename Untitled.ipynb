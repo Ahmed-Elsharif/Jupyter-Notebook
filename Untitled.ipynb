{
  "metadata": {
    "language_info": {
      "codemirror_mode": {
        "name": "python",
        "version": 3
      },
      "file_extension": ".py",
      "mimetype": "text/x-python",
      "name": "python",
      "nbconvert_exporter": "python",
      "pygments_lexer": "ipython3",
      "version": "3.8"
    },
    "kernelspec": {
      "name": "python",
      "display_name": "Pyolite",
      "language": "python"
    }
  },
  "nbformat_minor": 4,
  "nbformat": 4,
  "cells": [
    {
      "cell_type": "markdown",
      "source": "# My Jupyter Notebook on IBM Watson Studio",
      "metadata": {}
    },
    {
      "cell_type": "markdown",
      "source": "**Ahmed**\n",
      "metadata": {}
    },
    {
      "cell_type": "markdown",
      "source": "Data sciencs",
      "metadata": {}
    },
    {
      "cell_type": "markdown",
      "source": "*I am interested in data science because I want to move forword in my work and otherwise to get new job as a data scintist*",
      "metadata": {}
    },
    {
      "cell_type": "markdown",
      "source": "## this code will show us how can get result by add 2 +2",
      "metadata": {}
    },
    {
      "cell_type": "code",
      "source": "2+2",
      "metadata": {
        "trusted": true
      },
      "execution_count": 2,
      "outputs": [
        {
          "execution_count": 2,
          "output_type": "execute_result",
          "data": {
            "text/plain": "4"
          },
          "metadata": {}
        }
      ]
    },
    {
      "cell_type": "markdown",
      "source": "![alt text](https://github.com/adam-p/markdown-here/raw/master/src/common/images/icon48.png \"Logo Title Text 1\")",
      "metadata": {}
    },
    {
      "cell_type": "markdown",
      "source": "|name|age|titl|\n|----|:----:|:----:|\n|Ahmed|23|dr|\n|ali|33|mr|\n|lisa|22|mis|",
      "metadata": {}
    },
    {
      "cell_type": "markdown",
      "source": "~~My named is Ahmed~~",
      "metadata": {}
    },
    {
      "cell_type": "code",
      "source": "",
      "metadata": {},
      "execution_count": null,
      "outputs": []
    }
  ]
}